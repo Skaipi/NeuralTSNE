{
 "cells": [
  {
   "cell_type": "code",
   "execution_count": 2,
   "metadata": {},
   "outputs": [],
   "source": [
    "import torch\n",
    "import os\n",
    "import numpy as np\n",
    "import NeuralTSNE as ntsne\n",
    "import matplotlib.pyplot as plt\n",
    "\n",
    "from torch.utils.data import Subset, ConcatDataset\n",
    "from pytorch_lightning.callbacks import EarlyStopping\n",
    "from pytorch_lightning import Trainer"
   ]
  },
  {
   "cell_type": "code",
   "execution_count": null,
   "metadata": {},
   "outputs": [
    {
     "name": "stdout",
     "output_type": "stream",
     "text": [
      "Dataset not found. Please download the dataset first.\n"
     ]
    }
   ],
   "source": [
    "# Load the dataset and split it into training and testing sets\n",
    "try:\n",
    "  train, test = ntsne.DatasetLoader.get_datasets.prepare_dataset(\"colvar\")\n",
    "except FileNotFoundError:\n",
    "  print(\"Dataset not found. Please download the dataset first.\")\n",
    "  exit(1)\n",
    "  \n",
    "val = Subset(train, range(0, len(test)))\n",
    "train = Subset(train, range(len(test), len(train)))"
   ]
  },
  {
   "cell_type": "code",
   "execution_count": null,
   "metadata": {},
   "outputs": [],
   "source": [
    "features = train.dataset[0][0].size(0)\n",
    "reduced_features = 2\n",
    "multipliers = [0.75, 0.75, 0.75]\n",
    "basic_model = ntsne.TSNE.NeuralNetwork.NeuralNetwork(\n",
    "    features, reduced_features, multipliers\n",
    ")"
   ]
  },
  {
   "cell_type": "code",
   "execution_count": null,
   "metadata": {},
   "outputs": [],
   "source": [
    "param_tsne = ntsne.TSNE.ParametricTSNE.ParametricTSNE(\n",
    "    loss_fn=\"kl_divergence\",\n",
    "    n_components=reduced_features,\n",
    "    perplexity=30,\n",
    "    batch_size=1000,\n",
    "    early_exaggeration_epochs=0,\n",
    "    early_exaggeration_value=12,\n",
    "    max_iterations=500,\n",
    "    features=features,\n",
    "    multipliers=multipliers,\n",
    ")"
   ]
  },
  {
   "cell_type": "code",
   "execution_count": null,
   "metadata": {},
   "outputs": [],
   "source": [
    "early_stopping = EarlyStopping(monitor=\"val_loss\", min_delta=1e-5, patience=10)\n",
    "trainer = Trainer(\n",
    "    accelerator=\"gpu\" if torch.cuda.is_available() else \"cpu\",\n",
    "    log_every_n_steps=1,\n",
    "    max_epochs=param_tsne.max_iterations,\n",
    "    callbacks=[early_stopping],\n",
    ")"
   ]
  },
  {
   "cell_type": "code",
   "execution_count": null,
   "metadata": {},
   "outputs": [],
   "source": [
    "reducer = ntsne.TSNE.Modules.DimensionalityReduction(param_tsne, False, lr=1e-3)\n",
    "\n",
    "traind, testd = param_tsne.create_dataloaders(train, test)\n",
    "vald, _ = param_tsne.create_dataloaders(val, None)\n",
    "\n",
    "all_data = ConcatDataset([train, val, test])\n",
    "all_loader, _ = param_tsne.create_dataloaders(all_data, None)"
   ]
  },
  {
   "cell_type": "code",
   "execution_count": null,
   "metadata": {},
   "outputs": [],
   "source": [
    "torch.set_float32_matmul_precision(\"high\")\n",
    "\n",
    "if os.path.exists(\"colvar_model.pt\"):\n",
    "    param_tsne.read_model(\"colvar_model.pt\")\n",
    "else:\n",
    "    trainer.fit(reducer, traind, [vald])\n",
    "    param_tsne.save_model(\"colvar_model.pt\")"
   ]
  },
  {
   "cell_type": "code",
   "execution_count": null,
   "metadata": {},
   "outputs": [],
   "source": [
    "Y = trainer.predict(reducer, testd)\n",
    "Y = np.concatenate(Y, axis=0)\n",
    "\n",
    "header = ','.join([\"x1\", \"x2\"])\n",
    "np.savetxt(\"colvar_2d.csv\", Y, header=header, delimiter=\",\")\n",
    "\n",
    "x = Y[:, 0]\n",
    "y = Y[:, 1]"
   ]
  },
  {
   "cell_type": "code",
   "execution_count": null,
   "metadata": {},
   "outputs": [],
   "source": [
    "plt.scatter(x, y)\n",
    "plt.xlabel(\"X\")\n",
    "plt.ylabel(\"Y\")\n",
    "plt.title(\"Scatter Plot of 2D Vectors\")\n",
    "\n",
    "plt.show()"
   ]
  }
 ],
 "metadata": {
  "kernelspec": {
   "display_name": "Python 3",
   "language": "python",
   "name": "python3"
  },
  "language_info": {
   "codemirror_mode": {
    "name": "ipython",
    "version": 3
   },
   "file_extension": ".py",
   "mimetype": "text/x-python",
   "name": "python",
   "nbconvert_exporter": "python",
   "pygments_lexer": "ipython3",
   "version": "3.13.2"
  }
 },
 "nbformat": 4,
 "nbformat_minor": 2
}
